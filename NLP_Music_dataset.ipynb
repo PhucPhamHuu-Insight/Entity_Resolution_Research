{
  "nbformat": 4,
  "nbformat_minor": 0,
  "metadata": {
    "colab": {
      "provenance": []
    },
    "kernelspec": {
      "name": "python3",
      "display_name": "Python 3"
    },
    "language_info": {
      "name": "python"
    }
  },
  "cells": [
    {
      "cell_type": "code",
      "source": [
        "!pip install pandas recordlinkage tabulate sklearn py_stringmatching matplotlib"
      ],
      "metadata": {
        "colab": {
          "base_uri": "https://localhost:8080/"
        },
        "id": "YmBUNvpUP5mb",
        "outputId": "af9b0f61-f707-44f7-f658-3d60348bb5db"
      },
      "execution_count": null,
      "outputs": [
        {
          "output_type": "stream",
          "name": "stdout",
          "text": [
            "Looking in indexes: https://pypi.org/simple, https://us-python.pkg.dev/colab-wheels/public/simple/\n",
            "Requirement already satisfied: pandas in /usr/local/lib/python3.7/dist-packages (1.3.5)\n",
            "Requirement already satisfied: recordlinkage in /usr/local/lib/python3.7/dist-packages (0.15)\n",
            "Requirement already satisfied: tabulate in /usr/local/lib/python3.7/dist-packages (0.8.10)\n",
            "Requirement already satisfied: sklearn in /usr/local/lib/python3.7/dist-packages (0.0)\n",
            "Requirement already satisfied: py_stringmatching in /usr/local/lib/python3.7/dist-packages (0.4.2)\n",
            "Requirement already satisfied: matplotlib in /usr/local/lib/python3.7/dist-packages (3.2.2)\n",
            "Requirement already satisfied: numpy>=1.17.3 in /usr/local/lib/python3.7/dist-packages (from pandas) (1.21.6)\n",
            "Requirement already satisfied: python-dateutil>=2.7.3 in /usr/local/lib/python3.7/dist-packages (from pandas) (2.8.2)\n",
            "Requirement already satisfied: pytz>=2017.3 in /usr/local/lib/python3.7/dist-packages (from pandas) (2022.5)\n",
            "Requirement already satisfied: six>=1.5 in /usr/local/lib/python3.7/dist-packages (from python-dateutil>=2.7.3->pandas) (1.15.0)\n",
            "Requirement already satisfied: scikit-learn>=0.19.0 in /usr/local/lib/python3.7/dist-packages (from recordlinkage) (1.0.2)\n",
            "Requirement already satisfied: jellyfish>=0.8.0 in /usr/local/lib/python3.7/dist-packages (from recordlinkage) (0.9.0)\n",
            "Requirement already satisfied: scipy>=1 in /usr/local/lib/python3.7/dist-packages (from recordlinkage) (1.7.3)\n",
            "Requirement already satisfied: joblib in /usr/local/lib/python3.7/dist-packages (from recordlinkage) (1.2.0)\n",
            "Requirement already satisfied: threadpoolctl>=2.0.0 in /usr/local/lib/python3.7/dist-packages (from scikit-learn>=0.19.0->recordlinkage) (3.1.0)\n",
            "Requirement already satisfied: pyparsing!=2.0.4,!=2.1.2,!=2.1.6,>=2.0.1 in /usr/local/lib/python3.7/dist-packages (from matplotlib) (3.0.9)\n",
            "Requirement already satisfied: kiwisolver>=1.0.1 in /usr/local/lib/python3.7/dist-packages (from matplotlib) (1.4.4)\n",
            "Requirement already satisfied: cycler>=0.10 in /usr/local/lib/python3.7/dist-packages (from matplotlib) (0.11.0)\n",
            "Requirement already satisfied: typing-extensions in /usr/local/lib/python3.7/dist-packages (from kiwisolver>=1.0.1->matplotlib) (4.1.1)\n"
          ]
        }
      ]
    },
    {
      "cell_type": "code",
      "execution_count": null,
      "metadata": {
        "colab": {
          "base_uri": "https://localhost:8080/"
        },
        "id": "-yyW6UcSPsn0",
        "outputId": "7c95b8d7-217d-4155-a42c-e3855fa6350e"
      },
      "outputs": [
        {
          "output_type": "stream",
          "name": "stdout",
          "text": [
            "Mounted at /content/gdrive/\n"
          ]
        }
      ],
      "source": [
        "import pandas as pd\n",
        "import time\n",
        "from pathlib import Path\n",
        "import json\n",
        "import recordlinkage\n",
        "from tabulate import tabulate\n",
        "from recordlinkage.base import BaseCompareFeature\n",
        "from recordlinkage.index import BaseIndexAlgorithm\n",
        "import os\n",
        "import warnings\n",
        "import pprint\n",
        "from sklearn.feature_extraction.text import CountVectorizer\n",
        "from sklearn.model_selection import train_test_split\n",
        "from sklearn.linear_model import SGDClassifier\n",
        "from py_stringmatching import QgramTokenizer\n",
        "import numpy as np\n",
        "import matplotlib.pyplot as plt\n",
        "from sklearn.cluster import KMeans\n",
        "from google.colab import drive\n",
        "\n",
        "drive.mount(\"/content/gdrive/\")\n",
        "warnings.filterwarnings(\"ignore\")\n",
        "\n",
        "path = \"/content/gdrive/MyDrive/Colab Notebooks\"\n",
        "path_music = path+\"/Data Inputs/music_brainz_20k/\""
      ]
    },
    {
      "cell_type": "code",
      "source": [
        "music_columns = [\"album\",\"length\",\"artist\",\"year\",\"title\",\"language\"]\n",
        "music_dataset = pd.read_csv(path_music + \"music_2mil.csv\",encoding = 'UTF-8',usecols=music_columns)"
      ],
      "metadata": {
        "id": "3BJXYQp1P1Ix"
      },
      "execution_count": null,
      "outputs": []
    },
    {
      "cell_type": "code",
      "source": [
        "music_dataset.head()"
      ],
      "metadata": {
        "colab": {
          "base_uri": "https://localhost:8080/",
          "height": 206
        },
        "id": "R6KLL5LPSoaF",
        "outputId": "87b869bc-c883-43e7-b660-81ce02dbf475"
      },
      "execution_count": null,
      "outputs": [
        {
          "output_type": "execute_result",
          "data": {
            "text/plain": [
              "                                               title  length  \\\n",
              "0                         L'enfant aux yeux d'Italie  219800   \n",
              "1                                        Mustard Gas  129000   \n",
              "2  Angels From Heaven (radio edit) (The Next Chap...   03:09   \n",
              "3                        Kathy Troccoli - Your Grace     166   \n",
              "4    Brandenburg Concerto No. 3 in G major, BWV 1048  816866   \n",
              "\n",
              "                   artist                                              album  \\\n",
              "0        Daniel Balavoine                  De vous à elle en passant par moi   \n",
              "1        Action Painting!                          There and Back Again Lane   \n",
              "2            MaIrio Lopez                                   The Next Chapter   \n",
              "3                     NaN                                            Comfort   \n",
              "4  Johann Sebastian  Bach  Brandenburg Concerti (Mainz Chamber Orchestra,...   \n",
              "\n",
              "   year language  \n",
              "0  1975   French  \n",
              "1  1995  English  \n",
              "2  2002      NaN  \n",
              "3    05  English  \n",
              "4  1988  English  "
            ],
            "text/html": [
              "\n",
              "  <div id=\"df-4dc3b8ce-2fd4-4b22-b8df-cb951ae3f175\">\n",
              "    <div class=\"colab-df-container\">\n",
              "      <div>\n",
              "<style scoped>\n",
              "    .dataframe tbody tr th:only-of-type {\n",
              "        vertical-align: middle;\n",
              "    }\n",
              "\n",
              "    .dataframe tbody tr th {\n",
              "        vertical-align: top;\n",
              "    }\n",
              "\n",
              "    .dataframe thead th {\n",
              "        text-align: right;\n",
              "    }\n",
              "</style>\n",
              "<table border=\"1\" class=\"dataframe\">\n",
              "  <thead>\n",
              "    <tr style=\"text-align: right;\">\n",
              "      <th></th>\n",
              "      <th>title</th>\n",
              "      <th>length</th>\n",
              "      <th>artist</th>\n",
              "      <th>album</th>\n",
              "      <th>year</th>\n",
              "      <th>language</th>\n",
              "    </tr>\n",
              "  </thead>\n",
              "  <tbody>\n",
              "    <tr>\n",
              "      <th>0</th>\n",
              "      <td>L'enfant aux yeux d'Italie</td>\n",
              "      <td>219800</td>\n",
              "      <td>Daniel Balavoine</td>\n",
              "      <td>De vous à elle en passant par moi</td>\n",
              "      <td>1975</td>\n",
              "      <td>French</td>\n",
              "    </tr>\n",
              "    <tr>\n",
              "      <th>1</th>\n",
              "      <td>Mustard Gas</td>\n",
              "      <td>129000</td>\n",
              "      <td>Action Painting!</td>\n",
              "      <td>There and Back Again Lane</td>\n",
              "      <td>1995</td>\n",
              "      <td>English</td>\n",
              "    </tr>\n",
              "    <tr>\n",
              "      <th>2</th>\n",
              "      <td>Angels From Heaven (radio edit) (The Next Chap...</td>\n",
              "      <td>03:09</td>\n",
              "      <td>MaIrio Lopez</td>\n",
              "      <td>The Next Chapter</td>\n",
              "      <td>2002</td>\n",
              "      <td>NaN</td>\n",
              "    </tr>\n",
              "    <tr>\n",
              "      <th>3</th>\n",
              "      <td>Kathy Troccoli - Your Grace</td>\n",
              "      <td>166</td>\n",
              "      <td>NaN</td>\n",
              "      <td>Comfort</td>\n",
              "      <td>05</td>\n",
              "      <td>English</td>\n",
              "    </tr>\n",
              "    <tr>\n",
              "      <th>4</th>\n",
              "      <td>Brandenburg Concerto No. 3 in G major, BWV 1048</td>\n",
              "      <td>816866</td>\n",
              "      <td>Johann Sebastian  Bach</td>\n",
              "      <td>Brandenburg Concerti (Mainz Chamber Orchestra,...</td>\n",
              "      <td>1988</td>\n",
              "      <td>English</td>\n",
              "    </tr>\n",
              "  </tbody>\n",
              "</table>\n",
              "</div>\n",
              "      <button class=\"colab-df-convert\" onclick=\"convertToInteractive('df-4dc3b8ce-2fd4-4b22-b8df-cb951ae3f175')\"\n",
              "              title=\"Convert this dataframe to an interactive table.\"\n",
              "              style=\"display:none;\">\n",
              "        \n",
              "  <svg xmlns=\"http://www.w3.org/2000/svg\" height=\"24px\"viewBox=\"0 0 24 24\"\n",
              "       width=\"24px\">\n",
              "    <path d=\"M0 0h24v24H0V0z\" fill=\"none\"/>\n",
              "    <path d=\"M18.56 5.44l.94 2.06.94-2.06 2.06-.94-2.06-.94-.94-2.06-.94 2.06-2.06.94zm-11 1L8.5 8.5l.94-2.06 2.06-.94-2.06-.94L8.5 2.5l-.94 2.06-2.06.94zm10 10l.94 2.06.94-2.06 2.06-.94-2.06-.94-.94-2.06-.94 2.06-2.06.94z\"/><path d=\"M17.41 7.96l-1.37-1.37c-.4-.4-.92-.59-1.43-.59-.52 0-1.04.2-1.43.59L10.3 9.45l-7.72 7.72c-.78.78-.78 2.05 0 2.83L4 21.41c.39.39.9.59 1.41.59.51 0 1.02-.2 1.41-.59l7.78-7.78 2.81-2.81c.8-.78.8-2.07 0-2.86zM5.41 20L4 18.59l7.72-7.72 1.47 1.35L5.41 20z\"/>\n",
              "  </svg>\n",
              "      </button>\n",
              "      \n",
              "  <style>\n",
              "    .colab-df-container {\n",
              "      display:flex;\n",
              "      flex-wrap:wrap;\n",
              "      gap: 12px;\n",
              "    }\n",
              "\n",
              "    .colab-df-convert {\n",
              "      background-color: #E8F0FE;\n",
              "      border: none;\n",
              "      border-radius: 50%;\n",
              "      cursor: pointer;\n",
              "      display: none;\n",
              "      fill: #1967D2;\n",
              "      height: 32px;\n",
              "      padding: 0 0 0 0;\n",
              "      width: 32px;\n",
              "    }\n",
              "\n",
              "    .colab-df-convert:hover {\n",
              "      background-color: #E2EBFA;\n",
              "      box-shadow: 0px 1px 2px rgba(60, 64, 67, 0.3), 0px 1px 3px 1px rgba(60, 64, 67, 0.15);\n",
              "      fill: #174EA6;\n",
              "    }\n",
              "\n",
              "    [theme=dark] .colab-df-convert {\n",
              "      background-color: #3B4455;\n",
              "      fill: #D2E3FC;\n",
              "    }\n",
              "\n",
              "    [theme=dark] .colab-df-convert:hover {\n",
              "      background-color: #434B5C;\n",
              "      box-shadow: 0px 1px 3px 1px rgba(0, 0, 0, 0.15);\n",
              "      filter: drop-shadow(0px 1px 2px rgba(0, 0, 0, 0.3));\n",
              "      fill: #FFFFFF;\n",
              "    }\n",
              "  </style>\n",
              "\n",
              "      <script>\n",
              "        const buttonEl =\n",
              "          document.querySelector('#df-4dc3b8ce-2fd4-4b22-b8df-cb951ae3f175 button.colab-df-convert');\n",
              "        buttonEl.style.display =\n",
              "          google.colab.kernel.accessAllowed ? 'block' : 'none';\n",
              "\n",
              "        async function convertToInteractive(key) {\n",
              "          const element = document.querySelector('#df-4dc3b8ce-2fd4-4b22-b8df-cb951ae3f175');\n",
              "          const dataTable =\n",
              "            await google.colab.kernel.invokeFunction('convertToInteractive',\n",
              "                                                     [key], {});\n",
              "          if (!dataTable) return;\n",
              "\n",
              "          const docLinkHtml = 'Like what you see? Visit the ' +\n",
              "            '<a target=\"_blank\" href=https://colab.research.google.com/notebooks/data_table.ipynb>data table notebook</a>'\n",
              "            + ' to learn more about interactive tables.';\n",
              "          element.innerHTML = '';\n",
              "          dataTable['output_type'] = 'display_data';\n",
              "          await google.colab.output.renderOutput(dataTable, element);\n",
              "          const docLink = document.createElement('div');\n",
              "          docLink.innerHTML = docLinkHtml;\n",
              "          element.appendChild(docLink);\n",
              "        }\n",
              "      </script>\n",
              "    </div>\n",
              "  </div>\n",
              "  "
            ]
          },
          "metadata": {},
          "execution_count": 4
        }
      ]
    },
    {
      "cell_type": "code",
      "source": [
        "no_lg_detected = music_dataset[music_dataset[\"language\"].isna()]"
      ],
      "metadata": {
        "id": "yohOQrWBTtCP"
      },
      "execution_count": null,
      "outputs": []
    },
    {
      "cell_type": "code",
      "source": [
        "music_columns_no_lg = no_lg_detected[[\"album\",\"artist\",\"title\",\"language\"]]"
      ],
      "metadata": {
        "id": "86-VBwJXTzeP"
      },
      "execution_count": null,
      "outputs": []
    },
    {
      "cell_type": "code",
      "source": [
        "from google.colab import drive\n",
        "drive.mount('/content/drive')"
      ],
      "metadata": {
        "colab": {
          "base_uri": "https://localhost:8080/"
        },
        "id": "1VIdbfgNceU2",
        "outputId": "9275f000-abd8-487b-ffbd-f1627ed16a41"
      },
      "execution_count": null,
      "outputs": [
        {
          "output_type": "stream",
          "name": "stdout",
          "text": [
            "Mounted at /content/drive\n"
          ]
        }
      ]
    },
    {
      "cell_type": "code",
      "source": [
        "music_columns_no_lg[music_columns_no_lg.isna().any(axis=1)]"
      ],
      "metadata": {
        "colab": {
          "base_uri": "https://localhost:8080/",
          "height": 424
        },
        "id": "fKe_E5FwdOvH",
        "outputId": "d92e448e-f84a-4796-ddef-6b55c09eff1f"
      },
      "execution_count": null,
      "outputs": [
        {
          "output_type": "execute_result",
          "data": {
            "text/plain": [
              "                                                     album  \\\n",
              "2                                         The Next Chapter   \n",
              "6                                               First Down   \n",
              "14                                  Flow Goes The Universe   \n",
              "27                                                    10cm   \n",
              "30                                               Tabu Recz   \n",
              "...                                                    ...   \n",
              "1937488                                        Aaspelunker   \n",
              "1937493  Bridget Jones's Diary 2: More Music From the M...   \n",
              "1937494                                                NaN   \n",
              "1937496                                    Christmas Stars   \n",
              "1937497                  Live 'n' Skankin' / Who Wants It?   \n",
              "\n",
              "                             artist  \\\n",
              "2                      MaIrio Lopez   \n",
              "6        Ernie Stadler Jazz Quintet   \n",
              "14                          Laraaji   \n",
              "27                          Anemone   \n",
              "30                        Tabu Recz   \n",
              "...                             ...   \n",
              "1937488                   Wytchyker   \n",
              "1937493       Mary Chapin Carpenter   \n",
              "1937494                        Gorp   \n",
              "1937496                         NaN   \n",
              "1937497                       Riffs   \n",
              "\n",
              "                                                     title language  \n",
              "2        Angels From Heaven (radio edit) (The Next Chap...      NaN  \n",
              "6                            Well You Needn't (First Down)      NaN  \n",
              "14                     Being Here (Flow Goes The Universe)      NaN  \n",
              "27                                                     10c      NaN  \n",
              "30       Du Ikk' Sej, Din Pik Er Ikk' Lang, Vi Skyder D...      NaN  \n",
              "...                                                    ...      ...  \n",
              "1937488                     Raised By Wolves (Aaspelunker)      NaN  \n",
              "1937493  Passionate Kisses (Bridget Jones's Diary 2: Mo...      NaN  \n",
              "1937494             Leaders of Faith - Deficite & Defiance      NaN  \n",
              "1937496                  Luciano Pavarotti - Gesu Redeemer      NaN  \n",
              "1937497      Peter Gunn (Live 'n' Skankin' /Who Wants It?)      NaN  \n",
              "\n",
              "[447868 rows x 4 columns]"
            ],
            "text/html": [
              "\n",
              "  <div id=\"df-32071b94-c72f-4d47-9107-fbcbfaa596cb\">\n",
              "    <div class=\"colab-df-container\">\n",
              "      <div>\n",
              "<style scoped>\n",
              "    .dataframe tbody tr th:only-of-type {\n",
              "        vertical-align: middle;\n",
              "    }\n",
              "\n",
              "    .dataframe tbody tr th {\n",
              "        vertical-align: top;\n",
              "    }\n",
              "\n",
              "    .dataframe thead th {\n",
              "        text-align: right;\n",
              "    }\n",
              "</style>\n",
              "<table border=\"1\" class=\"dataframe\">\n",
              "  <thead>\n",
              "    <tr style=\"text-align: right;\">\n",
              "      <th></th>\n",
              "      <th>album</th>\n",
              "      <th>artist</th>\n",
              "      <th>title</th>\n",
              "      <th>language</th>\n",
              "    </tr>\n",
              "  </thead>\n",
              "  <tbody>\n",
              "    <tr>\n",
              "      <th>2</th>\n",
              "      <td>The Next Chapter</td>\n",
              "      <td>MaIrio Lopez</td>\n",
              "      <td>Angels From Heaven (radio edit) (The Next Chap...</td>\n",
              "      <td>NaN</td>\n",
              "    </tr>\n",
              "    <tr>\n",
              "      <th>6</th>\n",
              "      <td>First Down</td>\n",
              "      <td>Ernie Stadler Jazz Quintet</td>\n",
              "      <td>Well You Needn't (First Down)</td>\n",
              "      <td>NaN</td>\n",
              "    </tr>\n",
              "    <tr>\n",
              "      <th>14</th>\n",
              "      <td>Flow Goes The Universe</td>\n",
              "      <td>Laraaji</td>\n",
              "      <td>Being Here (Flow Goes The Universe)</td>\n",
              "      <td>NaN</td>\n",
              "    </tr>\n",
              "    <tr>\n",
              "      <th>27</th>\n",
              "      <td>10cm</td>\n",
              "      <td>Anemone</td>\n",
              "      <td>10c</td>\n",
              "      <td>NaN</td>\n",
              "    </tr>\n",
              "    <tr>\n",
              "      <th>30</th>\n",
              "      <td>Tabu Recz</td>\n",
              "      <td>Tabu Recz</td>\n",
              "      <td>Du Ikk' Sej, Din Pik Er Ikk' Lang, Vi Skyder D...</td>\n",
              "      <td>NaN</td>\n",
              "    </tr>\n",
              "    <tr>\n",
              "      <th>...</th>\n",
              "      <td>...</td>\n",
              "      <td>...</td>\n",
              "      <td>...</td>\n",
              "      <td>...</td>\n",
              "    </tr>\n",
              "    <tr>\n",
              "      <th>1937488</th>\n",
              "      <td>Aaspelunker</td>\n",
              "      <td>Wytchyker</td>\n",
              "      <td>Raised By Wolves (Aaspelunker)</td>\n",
              "      <td>NaN</td>\n",
              "    </tr>\n",
              "    <tr>\n",
              "      <th>1937493</th>\n",
              "      <td>Bridget Jones's Diary 2: More Music From the M...</td>\n",
              "      <td>Mary Chapin Carpenter</td>\n",
              "      <td>Passionate Kisses (Bridget Jones's Diary 2: Mo...</td>\n",
              "      <td>NaN</td>\n",
              "    </tr>\n",
              "    <tr>\n",
              "      <th>1937494</th>\n",
              "      <td>NaN</td>\n",
              "      <td>Gorp</td>\n",
              "      <td>Leaders of Faith - Deficite &amp; Defiance</td>\n",
              "      <td>NaN</td>\n",
              "    </tr>\n",
              "    <tr>\n",
              "      <th>1937496</th>\n",
              "      <td>Christmas Stars</td>\n",
              "      <td>NaN</td>\n",
              "      <td>Luciano Pavarotti - Gesu Redeemer</td>\n",
              "      <td>NaN</td>\n",
              "    </tr>\n",
              "    <tr>\n",
              "      <th>1937497</th>\n",
              "      <td>Live 'n' Skankin' / Who Wants It?</td>\n",
              "      <td>Riffs</td>\n",
              "      <td>Peter Gunn (Live 'n' Skankin' /Who Wants It?)</td>\n",
              "      <td>NaN</td>\n",
              "    </tr>\n",
              "  </tbody>\n",
              "</table>\n",
              "<p>447868 rows × 4 columns</p>\n",
              "</div>\n",
              "      <button class=\"colab-df-convert\" onclick=\"convertToInteractive('df-32071b94-c72f-4d47-9107-fbcbfaa596cb')\"\n",
              "              title=\"Convert this dataframe to an interactive table.\"\n",
              "              style=\"display:none;\">\n",
              "        \n",
              "  <svg xmlns=\"http://www.w3.org/2000/svg\" height=\"24px\"viewBox=\"0 0 24 24\"\n",
              "       width=\"24px\">\n",
              "    <path d=\"M0 0h24v24H0V0z\" fill=\"none\"/>\n",
              "    <path d=\"M18.56 5.44l.94 2.06.94-2.06 2.06-.94-2.06-.94-.94-2.06-.94 2.06-2.06.94zm-11 1L8.5 8.5l.94-2.06 2.06-.94-2.06-.94L8.5 2.5l-.94 2.06-2.06.94zm10 10l.94 2.06.94-2.06 2.06-.94-2.06-.94-.94-2.06-.94 2.06-2.06.94z\"/><path d=\"M17.41 7.96l-1.37-1.37c-.4-.4-.92-.59-1.43-.59-.52 0-1.04.2-1.43.59L10.3 9.45l-7.72 7.72c-.78.78-.78 2.05 0 2.83L4 21.41c.39.39.9.59 1.41.59.51 0 1.02-.2 1.41-.59l7.78-7.78 2.81-2.81c.8-.78.8-2.07 0-2.86zM5.41 20L4 18.59l7.72-7.72 1.47 1.35L5.41 20z\"/>\n",
              "  </svg>\n",
              "      </button>\n",
              "      \n",
              "  <style>\n",
              "    .colab-df-container {\n",
              "      display:flex;\n",
              "      flex-wrap:wrap;\n",
              "      gap: 12px;\n",
              "    }\n",
              "\n",
              "    .colab-df-convert {\n",
              "      background-color: #E8F0FE;\n",
              "      border: none;\n",
              "      border-radius: 50%;\n",
              "      cursor: pointer;\n",
              "      display: none;\n",
              "      fill: #1967D2;\n",
              "      height: 32px;\n",
              "      padding: 0 0 0 0;\n",
              "      width: 32px;\n",
              "    }\n",
              "\n",
              "    .colab-df-convert:hover {\n",
              "      background-color: #E2EBFA;\n",
              "      box-shadow: 0px 1px 2px rgba(60, 64, 67, 0.3), 0px 1px 3px 1px rgba(60, 64, 67, 0.15);\n",
              "      fill: #174EA6;\n",
              "    }\n",
              "\n",
              "    [theme=dark] .colab-df-convert {\n",
              "      background-color: #3B4455;\n",
              "      fill: #D2E3FC;\n",
              "    }\n",
              "\n",
              "    [theme=dark] .colab-df-convert:hover {\n",
              "      background-color: #434B5C;\n",
              "      box-shadow: 0px 1px 3px 1px rgba(0, 0, 0, 0.15);\n",
              "      filter: drop-shadow(0px 1px 2px rgba(0, 0, 0, 0.3));\n",
              "      fill: #FFFFFF;\n",
              "    }\n",
              "  </style>\n",
              "\n",
              "      <script>\n",
              "        const buttonEl =\n",
              "          document.querySelector('#df-32071b94-c72f-4d47-9107-fbcbfaa596cb button.colab-df-convert');\n",
              "        buttonEl.style.display =\n",
              "          google.colab.kernel.accessAllowed ? 'block' : 'none';\n",
              "\n",
              "        async function convertToInteractive(key) {\n",
              "          const element = document.querySelector('#df-32071b94-c72f-4d47-9107-fbcbfaa596cb');\n",
              "          const dataTable =\n",
              "            await google.colab.kernel.invokeFunction('convertToInteractive',\n",
              "                                                     [key], {});\n",
              "          if (!dataTable) return;\n",
              "\n",
              "          const docLinkHtml = 'Like what you see? Visit the ' +\n",
              "            '<a target=\"_blank\" href=https://colab.research.google.com/notebooks/data_table.ipynb>data table notebook</a>'\n",
              "            + ' to learn more about interactive tables.';\n",
              "          element.innerHTML = '';\n",
              "          dataTable['output_type'] = 'display_data';\n",
              "          await google.colab.output.renderOutput(dataTable, element);\n",
              "          const docLink = document.createElement('div');\n",
              "          docLink.innerHTML = docLinkHtml;\n",
              "          element.appendChild(docLink);\n",
              "        }\n",
              "      </script>\n",
              "    </div>\n",
              "  </div>\n",
              "  "
            ]
          },
          "metadata": {},
          "execution_count": 8
        }
      ]
    },
    {
      "cell_type": "code",
      "source": [
        "print(tabulate(music_columns_no_lg.head(20), headers=music_columns_no_lg.columns.tolist(), tablefmt=\"pretty\"))"
      ],
      "metadata": {
        "colab": {
          "base_uri": "https://localhost:8080/"
        },
        "id": "vXtXkxjzkp80",
        "outputId": "1e728176-0a71-43b4-e9d2-6b7f6ebf2767"
      },
      "execution_count": null,
      "outputs": [
        {
          "output_type": "stream",
          "name": "stdout",
          "text": [
            "+----+------------------------------------------------------------------------------------+----------------------------+--------------------------------------------------------------------------------------------------------------------------------+----------+\n",
            "|    |                                       album                                        |           artist           |                                                             title                                                              | language |\n",
            "+----+------------------------------------------------------------------------------------+----------------------------+--------------------------------------------------------------------------------------------------------------------------------+----------+\n",
            "| 2  |                                  The Next Chapter                                  |        MaIrio Lopez        |                                       Angels From Heaven (radio edit) (The Next Chapter)                                       |   nan    |\n",
            "| 6  |                                     First Down                                     | Ernie Stadler Jazz Quintet |                                                 Well You Needn't (First Down)                                                  |   nan    |\n",
            "| 14 |                               Flow Goes The Universe                               |          Laraaji           |                                              Being Here (Flow Goes The Universe)                                               |   nan    |\n",
            "| 27 |                                        10cm                                        |          Anemone           |                                                              10c                                                               |   nan    |\n",
            "| 30 |                                     Tabu Recz                                      |         Tabu Recz          |                                  Du Ikk' Sej, Din Pik Er Ikk' Lang, Vi Skyder Dig (Tabu Recz)                                  |   nan    |\n",
            "| 33 |                                   What's Real...                                   |      Jazz Liberatorz       |                                        What's Real (instrumental mix) (What's Real...)                                         |   nan    |\n",
            "| 34 |                       Treasures Of The Incas (Andes Cosmos)                        |          Wayanay           |                                                          Andes Cosmos                                                          |   nan    |\n",
            "| 38 |                                        nan                                         |      Antonio Vivaldi       | Gloria in D, Domine Fili unigenite - Gloria RV 589 / Beatus vir RV 587 (Schola Cantorum of Oxford, Northern Chamber Orchestra) |   nan    |\n",
            "| 48 |                                     Lebenstanz                                     |       Blaue Einhorn        |                                              L´Ivrogne / Der Säufer (Lebenstanz)                                               |   nan    |\n",
            "| 52 |                                      Delusion                                      |          Evolvent          |                                                      How Come (Delusion)                                                       |   nan    |\n",
            "| 53 |                                    In The Mix 4                                    |       Michelle Weeks       |                                                    The Light (In The Mix 4)                                                    |   nan    |\n",
            "| 54 |                                  Saints & Sinners                                  |      Saints & Sinners      |                                               Wheels_of_Fire_(Saints_&_Sinners)                                                |   nan    |\n",
            "| 57 |                                        nan                                         |       Charlie Walker       |                                      Good Old Mountain Dew - Pick Me Up on Your Way Down                                       |   nan    |\n",
            "| 58 |                                     Rose Love                                      |           Sunmei           |                                                Not only I love you (Rose Love)                                                 |   nan    |\n",
            "| 63 |                                      Ta yeul…                                      |       KC L.M.N.O.P.        |                                   Comme ça tu veux un gun ? Tu trouves ça l'fun ! (Ta yeul…)                                   |   nan    |\n",
            "| 70 |                                  electronica@*.lv                                  |          Selffish          |                                               Sound Judgement (electronica@*.lv)                                               |   nan    |\n",
            "| 80 |                              Live at the Unity Temple                              |    Noah Howard Quartet     |                                            In Transition (Live at the Unity Temple)                                            |   nan    |\n",
            "| 86 |                                      Lollipop                                      |      Monsieur Minimal      |                                                       Lovers (Lollipop)                                                        |   nan    |\n",
            "| 88 | Bigger Better Power Ballads II: The Greatest Driving Anthems in the World... Ever! |         Foreigner          |        Waiting for a Girl Like You (Bigger Better Power Ballads II: The Greatest Driving Anthems in the World... Ever!)        |   nan    |\n",
            "| 89 |                                Una leyenda flamenca                                |     Camarón de la Isla     |                                       Al verte las flores lloran (Una leyenda flamenca)                                        |   nan    |\n",
            "+----+------------------------------------------------------------------------------------+----------------------------+--------------------------------------------------------------------------------------------------------------------------------+----------+\n"
          ]
        }
      ]
    },
    {
      "cell_type": "code",
      "source": [
        "music_columns_no_lg = music_columns_no_lg.apply(lambda x: x.astype(str).str.lower())\n",
        "import string\n",
        "import re"
      ],
      "metadata": {
        "id": "i7_YY549kzNd"
      },
      "execution_count": null,
      "outputs": []
    },
    {
      "cell_type": "code",
      "source": [
        "chars = re.escape(string.punctuation)\n",
        "music_columns_no_lg[\"album\"] = music_columns_no_lg[\"album\"].apply(lambda x: re.sub(' +', ' ', re.sub(r'['+chars+']', ' ',x)))\n",
        "music_columns_no_lg[\"artist\"] = music_columns_no_lg[\"artist\"].apply(lambda x: re.sub(' +', ' ', re.sub(r'['+chars+']', ' ',x)))\n",
        "music_columns_no_lg[\"title\"] = music_columns_no_lg[\"title\"].apply(lambda x: re.sub(' +', ' ', re.sub(r'['+chars+']', ' ',x)))"
      ],
      "metadata": {
        "id": "uDN8OLJ0l-N3"
      },
      "execution_count": null,
      "outputs": []
    },
    {
      "cell_type": "code",
      "source": [
        "print(tabulate(music_columns_no_lg.head(20), headers=music_columns_no_lg.columns.tolist(), tablefmt=\"pretty\"))"
      ],
      "metadata": {
        "colab": {
          "base_uri": "https://localhost:8080/"
        },
        "id": "rtZq0ZBZl9ch",
        "outputId": "c8682bfd-864b-47e3-fa19-e016673152f3"
      },
      "execution_count": null,
      "outputs": [
        {
          "output_type": "stream",
          "name": "stdout",
          "text": [
            "+----+-------------------------------------------------------------------------------+----------------------------+------------------------------------------------------------------------------------------------------------------------+----------+\n",
            "|    |                                     album                                     |           artist           |                                                         title                                                          | language |\n",
            "+----+-------------------------------------------------------------------------------+----------------------------+------------------------------------------------------------------------------------------------------------------------+----------+\n",
            "| 2  |                               the next chapter                                |        mairio lopez        |                                     angels from heaven radio edit the next chapter                                     |   nan    |\n",
            "| 6  |                                  first down                                   | ernie stadler jazz quintet |                                              well you needn t first down                                               |   nan    |\n",
            "| 14 |                            flow goes the universe                             |          laraaji           |                                           being here flow goes the universe                                            |   nan    |\n",
            "| 27 |                                     10cm                                      |          anemone           |                                                          10c                                                           |   nan    |\n",
            "| 30 |                                   tabu recz                                   |         tabu recz          |                                 du ikk sej din pik er ikk lang vi skyder dig tabu recz                                 |   nan    |\n",
            "| 33 |                                  what s real                                  |      jazz liberatorz       |                                        what s real instrumental mix what s real                                        |   nan    |\n",
            "| 34 |                      treasures of the incas andes cosmos                      |          wayanay           |                                                      andes cosmos                                                      |   nan    |\n",
            "| 38 |                                      nan                                      |      antonio vivaldi       | gloria in d domine fili unigenite gloria rv 589 beatus vir rv 587 schola cantorum of oxford northern chamber orchestra |   nan    |\n",
            "| 48 |                                  lebenstanz                                   |       blaue einhorn        |                                            l´ivrogne der säufer lebenstanz                                             |   nan    |\n",
            "| 52 |                                   delusion                                    |          evolvent          |                                                   how come delusion                                                    |   nan    |\n",
            "| 53 |                                 in the mix 4                                  |       michelle weeks       |                                                 the light in the mix 4                                                 |   nan    |\n",
            "| 54 |                                saints sinners                                 |       saints sinners       |                                             wheels of fire saints sinners                                              |   nan    |\n",
            "| 57 |                                      nan                                      |       charlie walker       |                                   good old mountain dew pick me up on your way down                                    |   nan    |\n",
            "| 58 |                                   rose love                                   |           sunmei           |                                             not only i love you rose love                                              |   nan    |\n",
            "| 63 |                                   ta yeul…                                    |        kc l m n o p        |                                  comme ça tu veux un gun tu trouves ça l fun ta yeul…                                  |   nan    |\n",
            "| 70 |                                electronica lv                                 |          selffish          |                                             sound judgement electronica lv                                             |   nan    |\n",
            "| 80 |                           live at the unity temple                            |    noah howard quartet     |                                         in transition live at the unity temple                                         |   nan    |\n",
            "| 86 |                                   lollipop                                    |      monsieur minimal      |                                                    lovers lollipop                                                     |   nan    |\n",
            "| 88 | bigger better power ballads ii the greatest driving anthems in the world ever |         foreigner          |       waiting for a girl like you bigger better power ballads ii the greatest driving anthems in the world ever        |   nan    |\n",
            "| 89 |                             una leyenda flamenca                              |     camarón de la isla     |                                    al verte las flores lloran una leyenda flamenca                                     |   nan    |\n",
            "+----+-------------------------------------------------------------------------------+----------------------------+------------------------------------------------------------------------------------------------------------------------+----------+\n"
          ]
        }
      ]
    },
    {
      "cell_type": "code",
      "source": [
        "!pip install langdetect"
      ],
      "metadata": {
        "id": "kh6zCLHPoE9C",
        "colab": {
          "base_uri": "https://localhost:8080/"
        },
        "outputId": "9b84e715-3303-42ce-c0d5-2c73704b74fd"
      },
      "execution_count": null,
      "outputs": [
        {
          "output_type": "stream",
          "name": "stdout",
          "text": [
            "Looking in indexes: https://pypi.org/simple, https://us-python.pkg.dev/colab-wheels/public/simple/\n",
            "Requirement already satisfied: langdetect in /usr/local/lib/python3.7/dist-packages (1.0.7)\n",
            "Requirement already satisfied: six in /usr/local/lib/python3.7/dist-packages (from langdetect) (1.15.0)\n"
          ]
        }
      ]
    },
    {
      "cell_type": "code",
      "source": [
        "from langdetect import detect\n",
        "from langdetect import DetectorFactory\n",
        "DetectorFactory.seed = 0\n",
        "\n",
        "def detect_language(row):\n",
        "    try:\n",
        "      return detect(row)\n",
        "    except Exception as ex:\n",
        "      return str(ex)\n",
        "music_columns_no_lg = music_columns_no_lg.head(2000)\n",
        "music_columns_no_lg[\"combined_col\"]=music_columns_no_lg[[\"album\", \"title\"]].apply(\" \".join, axis=1)\n",
        "music_columns_no_lg[\"language\"]=music_columns_no_lg[\"combined_col\"].apply(lambda x: detect_language(x))\n",
        "music_columns_no_lg.drop(inplace=True,columns=[\"combined_col\"])"
      ],
      "metadata": {
        "id": "8W7IH2gFc_Ia"
      },
      "execution_count": null,
      "outputs": []
    },
    {
      "cell_type": "code",
      "source": [
        "print(tabulate(music_columns_no_lg.head(20), headers=music_columns_no_lg.columns.tolist(), tablefmt=\"pretty\"))"
      ],
      "metadata": {
        "colab": {
          "base_uri": "https://localhost:8080/"
        },
        "id": "9bWeWfLbdEwj",
        "outputId": "43c8a5a9-635a-40b0-a957-ec466d58eebd"
      },
      "execution_count": null,
      "outputs": [
        {
          "output_type": "stream",
          "name": "stdout",
          "text": [
            "+----+-------------------------------------------------------------------------------+----------------------------+------------------------------------------------------------------------------------------------------------------------+----------+\n",
            "|    |                                     album                                     |           artist           |                                                         title                                                          | language |\n",
            "+----+-------------------------------------------------------------------------------+----------------------------+------------------------------------------------------------------------------------------------------------------------+----------+\n",
            "| 2  |                               the next chapter                                |        mairio lopez        |                                     angels from heaven radio edit the next chapter                                     |    en    |\n",
            "| 6  |                                  first down                                   | ernie stadler jazz quintet |                                              well you needn t first down                                               |    en    |\n",
            "| 14 |                            flow goes the universe                             |          laraaji           |                                           being here flow goes the universe                                            |    en    |\n",
            "| 27 |                                     10cm                                      |          anemone           |                                                          10c                                                           |    vi    |\n",
            "| 30 |                                   tabu recz                                   |         tabu recz          |                                 du ikk sej din pik er ikk lang vi skyder dig tabu recz                                 |    no    |\n",
            "| 33 |                                  what s real                                  |      jazz liberatorz       |                                        what s real instrumental mix what s real                                        |    en    |\n",
            "| 34 |                      treasures of the incas andes cosmos                      |          wayanay           |                                                      andes cosmos                                                      |    en    |\n",
            "| 38 |                                      nan                                      |      antonio vivaldi       | gloria in d domine fili unigenite gloria rv 589 beatus vir rv 587 schola cantorum of oxford northern chamber orchestra |    en    |\n",
            "| 48 |                                  lebenstanz                                   |       blaue einhorn        |                                            l´ivrogne der säufer lebenstanz                                             |    de    |\n",
            "| 52 |                                   delusion                                    |          evolvent          |                                                   how come delusion                                                    |    it    |\n",
            "| 53 |                                 in the mix 4                                  |       michelle weeks       |                                                 the light in the mix 4                                                 |    en    |\n",
            "| 54 |                                saints sinners                                 |       saints sinners       |                                             wheels of fire saints sinners                                              |    en    |\n",
            "| 57 |                                      nan                                      |       charlie walker       |                                   good old mountain dew pick me up on your way down                                    |    en    |\n",
            "| 58 |                                   rose love                                   |           sunmei           |                                             not only i love you rose love                                              |    cs    |\n",
            "| 63 |                                   ta yeul…                                    |        kc l m n o p        |                                  comme ça tu veux un gun tu trouves ça l fun ta yeul…                                  |    fr    |\n",
            "| 70 |                                electronica lv                                 |          selffish          |                                             sound judgement electronica lv                                             |    es    |\n",
            "| 80 |                           live at the unity temple                            |    noah howard quartet     |                                         in transition live at the unity temple                                         |    en    |\n",
            "| 86 |                                   lollipop                                    |      monsieur minimal      |                                                    lovers lollipop                                                     |    it    |\n",
            "| 88 | bigger better power ballads ii the greatest driving anthems in the world ever |         foreigner          |       waiting for a girl like you bigger better power ballads ii the greatest driving anthems in the world ever        |    en    |\n",
            "| 89 |                             una leyenda flamenca                              |     camarón de la isla     |                                    al verte las flores lloran una leyenda flamenca                                     |    es    |\n",
            "+----+-------------------------------------------------------------------------------+----------------------------+------------------------------------------------------------------------------------------------------------------------+----------+\n"
          ]
        }
      ]
    },
    {
      "cell_type": "code",
      "source": [
        "music_columns_no_lg[\"language\"].unique()"
      ],
      "metadata": {
        "colab": {
          "base_uri": "https://localhost:8080/"
        },
        "id": "RSC5FOxXiEEo",
        "outputId": "900ad644-1b91-491b-eeb7-c39a5d1bf8f4"
      },
      "execution_count": null,
      "outputs": [
        {
          "output_type": "execute_result",
          "data": {
            "text/plain": [
              "array(['en', 'vi', 'no', 'de', 'it', 'cs', 'fr', 'es', 'ru', 'hr', 'ja',\n",
              "       'ca', 'et', 'pt', 'el', 'fi', 'ro', 'sv', 'af', 'da', 'tl', 'nl',\n",
              "       'cy', 'sq', 'so', 'ko', 'id', 'lv', 'pl', 'sl', 'hu', 'tr', 'sw',\n",
              "       'lt', 'No features in text.', 'zh-cn', 'he', 'sk', 'uk', 'bg',\n",
              "       'mk'], dtype=object)"
            ]
          },
          "metadata": {},
          "execution_count": 16
        }
      ]
    },
    {
      "cell_type": "code",
      "source": [
        "music_columns_no_lg[music_columns_no_lg[\"language\"]==\"No features in text.\"]"
      ],
      "metadata": {
        "colab": {
          "base_uri": "https://localhost:8080/",
          "height": 112
        },
        "id": "xWqqD8qbj2Ok",
        "outputId": "adfb01f9-514a-47e4-c476-5bd7b553ac9a"
      },
      "execution_count": null,
      "outputs": [
        {
          "output_type": "execute_result",
          "data": {
            "text/plain": [
              "     album artist   title              language\n",
              "3035  2008    nan     006  No features in text.\n",
              "7742  2010    nan  007314  No features in text."
            ],
            "text/html": [
              "\n",
              "  <div id=\"df-52383e6a-ea1b-4161-9cda-1d1a3afe14a0\">\n",
              "    <div class=\"colab-df-container\">\n",
              "      <div>\n",
              "<style scoped>\n",
              "    .dataframe tbody tr th:only-of-type {\n",
              "        vertical-align: middle;\n",
              "    }\n",
              "\n",
              "    .dataframe tbody tr th {\n",
              "        vertical-align: top;\n",
              "    }\n",
              "\n",
              "    .dataframe thead th {\n",
              "        text-align: right;\n",
              "    }\n",
              "</style>\n",
              "<table border=\"1\" class=\"dataframe\">\n",
              "  <thead>\n",
              "    <tr style=\"text-align: right;\">\n",
              "      <th></th>\n",
              "      <th>album</th>\n",
              "      <th>artist</th>\n",
              "      <th>title</th>\n",
              "      <th>language</th>\n",
              "    </tr>\n",
              "  </thead>\n",
              "  <tbody>\n",
              "    <tr>\n",
              "      <th>3035</th>\n",
              "      <td>2008</td>\n",
              "      <td>nan</td>\n",
              "      <td>006</td>\n",
              "      <td>No features in text.</td>\n",
              "    </tr>\n",
              "    <tr>\n",
              "      <th>7742</th>\n",
              "      <td>2010</td>\n",
              "      <td>nan</td>\n",
              "      <td>007314</td>\n",
              "      <td>No features in text.</td>\n",
              "    </tr>\n",
              "  </tbody>\n",
              "</table>\n",
              "</div>\n",
              "      <button class=\"colab-df-convert\" onclick=\"convertToInteractive('df-52383e6a-ea1b-4161-9cda-1d1a3afe14a0')\"\n",
              "              title=\"Convert this dataframe to an interactive table.\"\n",
              "              style=\"display:none;\">\n",
              "        \n",
              "  <svg xmlns=\"http://www.w3.org/2000/svg\" height=\"24px\"viewBox=\"0 0 24 24\"\n",
              "       width=\"24px\">\n",
              "    <path d=\"M0 0h24v24H0V0z\" fill=\"none\"/>\n",
              "    <path d=\"M18.56 5.44l.94 2.06.94-2.06 2.06-.94-2.06-.94-.94-2.06-.94 2.06-2.06.94zm-11 1L8.5 8.5l.94-2.06 2.06-.94-2.06-.94L8.5 2.5l-.94 2.06-2.06.94zm10 10l.94 2.06.94-2.06 2.06-.94-2.06-.94-.94-2.06-.94 2.06-2.06.94z\"/><path d=\"M17.41 7.96l-1.37-1.37c-.4-.4-.92-.59-1.43-.59-.52 0-1.04.2-1.43.59L10.3 9.45l-7.72 7.72c-.78.78-.78 2.05 0 2.83L4 21.41c.39.39.9.59 1.41.59.51 0 1.02-.2 1.41-.59l7.78-7.78 2.81-2.81c.8-.78.8-2.07 0-2.86zM5.41 20L4 18.59l7.72-7.72 1.47 1.35L5.41 20z\"/>\n",
              "  </svg>\n",
              "      </button>\n",
              "      \n",
              "  <style>\n",
              "    .colab-df-container {\n",
              "      display:flex;\n",
              "      flex-wrap:wrap;\n",
              "      gap: 12px;\n",
              "    }\n",
              "\n",
              "    .colab-df-convert {\n",
              "      background-color: #E8F0FE;\n",
              "      border: none;\n",
              "      border-radius: 50%;\n",
              "      cursor: pointer;\n",
              "      display: none;\n",
              "      fill: #1967D2;\n",
              "      height: 32px;\n",
              "      padding: 0 0 0 0;\n",
              "      width: 32px;\n",
              "    }\n",
              "\n",
              "    .colab-df-convert:hover {\n",
              "      background-color: #E2EBFA;\n",
              "      box-shadow: 0px 1px 2px rgba(60, 64, 67, 0.3), 0px 1px 3px 1px rgba(60, 64, 67, 0.15);\n",
              "      fill: #174EA6;\n",
              "    }\n",
              "\n",
              "    [theme=dark] .colab-df-convert {\n",
              "      background-color: #3B4455;\n",
              "      fill: #D2E3FC;\n",
              "    }\n",
              "\n",
              "    [theme=dark] .colab-df-convert:hover {\n",
              "      background-color: #434B5C;\n",
              "      box-shadow: 0px 1px 3px 1px rgba(0, 0, 0, 0.15);\n",
              "      filter: drop-shadow(0px 1px 2px rgba(0, 0, 0, 0.3));\n",
              "      fill: #FFFFFF;\n",
              "    }\n",
              "  </style>\n",
              "\n",
              "      <script>\n",
              "        const buttonEl =\n",
              "          document.querySelector('#df-52383e6a-ea1b-4161-9cda-1d1a3afe14a0 button.colab-df-convert');\n",
              "        buttonEl.style.display =\n",
              "          google.colab.kernel.accessAllowed ? 'block' : 'none';\n",
              "\n",
              "        async function convertToInteractive(key) {\n",
              "          const element = document.querySelector('#df-52383e6a-ea1b-4161-9cda-1d1a3afe14a0');\n",
              "          const dataTable =\n",
              "            await google.colab.kernel.invokeFunction('convertToInteractive',\n",
              "                                                     [key], {});\n",
              "          if (!dataTable) return;\n",
              "\n",
              "          const docLinkHtml = 'Like what you see? Visit the ' +\n",
              "            '<a target=\"_blank\" href=https://colab.research.google.com/notebooks/data_table.ipynb>data table notebook</a>'\n",
              "            + ' to learn more about interactive tables.';\n",
              "          element.innerHTML = '';\n",
              "          dataTable['output_type'] = 'display_data';\n",
              "          await google.colab.output.renderOutput(dataTable, element);\n",
              "          const docLink = document.createElement('div');\n",
              "          docLink.innerHTML = docLinkHtml;\n",
              "          element.appendChild(docLink);\n",
              "        }\n",
              "      </script>\n",
              "    </div>\n",
              "  </div>\n",
              "  "
            ]
          },
          "metadata": {},
          "execution_count": 17
        }
      ]
    },
    {
      "cell_type": "code",
      "source": [
        "import advertools as adv\n",
        "adv.stopwords.keys()"
      ],
      "metadata": {
        "colab": {
          "base_uri": "https://localhost:8080/",
          "height": 321
        },
        "id": "7SLfC31gkBvT",
        "outputId": "67a6bff8-7d84-4dec-88bb-89f72b877b0e"
      },
      "execution_count": null,
      "outputs": [
        {
          "output_type": "error",
          "ename": "ModuleNotFoundError",
          "evalue": "ignored",
          "traceback": [
            "\u001b[0;31m---------------------------------------------------------------------------\u001b[0m",
            "\u001b[0;31mModuleNotFoundError\u001b[0m                       Traceback (most recent call last)",
            "\u001b[0;32m<ipython-input-18-02b3031ef161>\u001b[0m in \u001b[0;36m<module>\u001b[0;34m\u001b[0m\n\u001b[0;32m----> 1\u001b[0;31m \u001b[0;32mimport\u001b[0m \u001b[0madvertools\u001b[0m \u001b[0;32mas\u001b[0m \u001b[0madv\u001b[0m\u001b[0;34m\u001b[0m\u001b[0;34m\u001b[0m\u001b[0m\n\u001b[0m\u001b[1;32m      2\u001b[0m \u001b[0madv\u001b[0m\u001b[0;34m.\u001b[0m\u001b[0mstopwords\u001b[0m\u001b[0;34m.\u001b[0m\u001b[0mkeys\u001b[0m\u001b[0;34m(\u001b[0m\u001b[0;34m)\u001b[0m\u001b[0;34m\u001b[0m\u001b[0;34m\u001b[0m\u001b[0m\n",
            "\u001b[0;31mModuleNotFoundError\u001b[0m: No module named 'advertools'",
            "",
            "\u001b[0;31m---------------------------------------------------------------------------\u001b[0;32m\nNOTE: If your import is failing due to a missing package, you can\nmanually install dependencies using either !pip or !apt.\n\nTo view examples of installing some common dependencies, click the\n\"Open Examples\" button below.\n\u001b[0;31m---------------------------------------------------------------------------\u001b[0m\n"
          ],
          "errorDetails": {
            "actions": [
              {
                "action": "open_url",
                "actionText": "Open Examples",
                "url": "/notebooks/snippets/importing_libraries.ipynb"
              }
            ]
          }
        }
      ]
    },
    {
      "cell_type": "code",
      "source": [],
      "metadata": {
        "id": "cZmNLu6Akcuo"
      },
      "execution_count": null,
      "outputs": []
    }
  ]
}